{
 "cells": [
  {
   "cell_type": "markdown",
   "id": "179cc25e",
   "metadata": {},
   "source": [
    "# Deep-MINE implementation"
   ]
  },
  {
   "cell_type": "markdown",
   "id": "3e0f0287",
   "metadata": {},
   "source": [
    "## 1. Libraries"
   ]
  },
  {
   "cell_type": "code",
   "execution_count": 1,
   "id": "89230018",
   "metadata": {},
   "outputs": [
    {
     "name": "stderr",
     "output_type": "stream",
     "text": [
      "[nltk_data] Downloading package punkt to /home/vichshir/nltk_data...\n",
      "[nltk_data]   Package punkt is already up-to-date!\n",
      "[nltk_data] Downloading package stopwords to\n",
      "[nltk_data]     /home/vichshir/nltk_data...\n",
      "[nltk_data]   Package stopwords is already up-to-date!\n"
     ]
    },
    {
     "name": "stdout",
     "output_type": "stream",
     "text": [
      "cuda\n"
     ]
    }
   ],
   "source": [
    "import torch\n",
    "import torch.nn as nn\n",
    "import torch.nn.functional as F\n",
    "from torch.utils.data import Dataset, DataLoader\n",
    "\n",
    "import pandas as pd\n",
    "import numpy as np\n",
    "\n",
    "import matplotlib.pyplot as plt\n",
    "import seaborn as sns\n",
    "\n",
    "from sklearn.metrics import roc_auc_score\n",
    "\n",
    "from data import Encoder, DeepMINEDataset\n",
    "from bow import Vocabulary\n",
    "from models import init_weights, ImageAutoEncoder, TextAutoEncoder, DeepMINEModel\n",
    "from evaluation import evaluate\n",
    "\n",
    "import os\n",
    "import time\n",
    "import json\n",
    "import random\n",
    "import requests\n",
    "from PIL import Image\n",
    "from tqdm import tqdm\n",
    "tqdm.pandas()\n",
    "\n",
    "RANDOM_SEED = 2025\n",
    "\n",
    "random.seed(RANDOM_SEED)\n",
    "torch.manual_seed(RANDOM_SEED)\n",
    "np.random.seed(RANDOM_SEED)\n",
    "\n",
    "device = torch.device('cuda' if torch.cuda.is_available() else 'cpu')\n",
    "print(device)"
   ]
  },
  {
   "cell_type": "markdown",
   "id": "42cd6273",
   "metadata": {},
   "source": [
    "## 2. Load data"
   ]
  },
  {
   "cell_type": "code",
   "execution_count": 2,
   "id": "64e9c136",
   "metadata": {},
   "outputs": [
    {
     "name": "stdout",
     "output_type": "stream",
     "text": [
      "(284666, 7)\n",
      "(8941, 5)\n",
      "(72969, 2)\n",
      "(72969, 7)\n",
      "(211697, 7)\n"
     ]
    }
   ],
   "source": [
    "# feedbacks\n",
    "df_prime_pantry = pd.read_csv('./data/prime_pantry.csv')\n",
    "print(df_prime_pantry.shape)\n",
    "\n",
    "# products\n",
    "df_products = pd.read_csv('./data/products.csv').reset_index()\n",
    "print(df_products.shape)\n",
    "\n",
    "# users\n",
    "df_users = pd.read_csv('./data/users.csv')\n",
    "print(df_users.shape)\n",
    "\n",
    "df_test = df_prime_pantry.sample(frac=1).drop_duplicates('reviewerID')\n",
    "print(df_test.shape)\n",
    "\n",
    "df_train = df_prime_pantry[~df_prime_pantry['index'].isin(df_test['index'])]\n",
    "print(df_train.shape)"
   ]
  },
  {
   "cell_type": "markdown",
   "id": "6846ee0c",
   "metadata": {},
   "source": [
    "## 3. Pre-processing - Bag of Words"
   ]
  },
  {
   "cell_type": "code",
   "execution_count": 3,
   "id": "db42f4dd",
   "metadata": {},
   "outputs": [
    {
     "name": "stdout",
     "output_type": "stream",
     "text": [
      "Training corpus...\n",
      "29678\n",
      "Training corpus...\n",
      "12916\n"
     ]
    },
    {
     "name": "stderr",
     "output_type": "stream",
     "text": [
      "/tmp/ipykernel_1854/2787889712.py:9: SettingWithCopyWarning: \n",
      "A value is trying to be set on a copy of a slice from a DataFrame.\n",
      "Try using .loc[row_indexer,col_indexer] = value instead\n",
      "\n",
      "See the caveats in the documentation: https://pandas.pydata.org/pandas-docs/stable/user_guide/indexing.html#returning-a-view-versus-a-copy\n",
      "  df_train['reviewText'] = review_vocab.preprocess(df_train['reviewText'])\n",
      "/tmp/ipykernel_1854/2787889712.py:10: SettingWithCopyWarning: \n",
      "A value is trying to be set on a copy of a slice from a DataFrame.\n",
      "Try using .loc[row_indexer,col_indexer] = value instead\n",
      "\n",
      "See the caveats in the documentation: https://pandas.pydata.org/pandas-docs/stable/user_guide/indexing.html#returning-a-view-versus-a-copy\n",
      "  df_train['description'] = description_vocab.preprocess(df_train['description'])\n"
     ]
    }
   ],
   "source": [
    "review_vocab = Vocabulary()\n",
    "review_vocab.fit(df_prime_pantry[\"reviewText\"])\n",
    "print(review_vocab.vocab_size())\n",
    "\n",
    "description_vocab = Vocabulary()\n",
    "description_vocab.fit(df_prime_pantry[\"description\"])\n",
    "print(description_vocab.vocab_size())\n",
    "\n",
    "df_train['reviewText'] = review_vocab.preprocess(df_train['reviewText'])\n",
    "df_train['description'] = description_vocab.preprocess(df_train['description'])\n",
    "\n",
    "df_test['reviewText'] = review_vocab.preprocess(df_test['reviewText'])\n",
    "df_test['description'] = description_vocab.preprocess(df_test['description'])"
   ]
  },
  {
   "cell_type": "markdown",
   "id": "95db757d",
   "metadata": {},
   "source": [
    "## 4. Deep-MINE Model"
   ]
  },
  {
   "cell_type": "code",
   "execution_count": 4,
   "id": "b162034e",
   "metadata": {},
   "outputs": [
    {
     "name": "stdout",
     "output_type": "stream",
     "text": [
      "Number of users: 72969\n",
      "Number of items: 8941\n",
      "Number of items that has not feedback: 473\n",
      "Number of parameters: 42907070\n"
     ]
    }
   ],
   "source": [
    "n_users = df_prime_pantry['reviewerID'].nunique()\n",
    "n_items = df_products['asin'].nunique()\n",
    "print('Number of users:', n_users)\n",
    "print('Number of items:', n_items)\n",
    "print('Number of items that has not feedback:', df_products.shape[0] - df_products['asin'].isin(df_prime_pantry['asin']).sum())\n",
    "\n",
    "model = DeepMINEModel(\n",
    "    n_users=n_users,\n",
    "    n_items=n_items,\n",
    "    img_size=40,\n",
    "    review_vocab_size=review_vocab.vocab_size(),\n",
    "    desc_vocab_size=description_vocab.vocab_size(),\n",
    ").to(device)\n",
    "model.apply(init_weights)\n",
    "print('Number of parameters:', sum(p.numel() for p in model.parameters()))"
   ]
  },
  {
   "cell_type": "markdown",
   "id": "670d5e5d",
   "metadata": {},
   "source": [
    "## 5. Test evaluation "
   ]
  },
  {
   "cell_type": "code",
   "execution_count": 5,
   "id": "c58dd41d",
   "metadata": {},
   "outputs": [],
   "source": [
    "test_encoder = Encoder(df_test, df_products, df_users, description_vocab, review_vocab)\n",
    "test_data = DeepMINEDataset(df_test, df_products, df_users, n_neg_items=10)\n",
    "test_dataloader = DataLoader(test_data, batch_size=1, collate_fn=test_encoder.process, shuffle=False, num_workers=0)"
   ]
  },
  {
   "cell_type": "code",
   "execution_count": 6,
   "id": "13092362",
   "metadata": {},
   "outputs": [
    {
     "name": "stderr",
     "output_type": "stream",
     "text": [
      "  7%|███▎                                             | 5000/72969 [07:41<1:44:29, 10.84it/s, hit=0.0982, roc_auc=0.512]"
     ]
    },
    {
     "name": "stdout",
     "output_type": "stream",
     "text": [
      "Hit-Ratio: 0.09818036392721456\n",
      "ROC-AUC: 0.5124175164967006\n"
     ]
    },
    {
     "name": "stderr",
     "output_type": "stream",
     "text": [
      "\n"
     ]
    }
   ],
   "source": [
    "evaluate(model, test_dataloader, device, topk=1)"
   ]
  },
  {
   "cell_type": "code",
   "execution_count": 7,
   "id": "36617bbc",
   "metadata": {},
   "outputs": [
    {
     "name": "stderr",
     "output_type": "stream",
     "text": [
      "  7%|███▍                                               | 5000/72969 [07:34<1:42:51, 11.01it/s, hit=0.468, roc_auc=0.51]"
     ]
    },
    {
     "name": "stdout",
     "output_type": "stream",
     "text": [
      "Hit-Ratio: 0.46770645870825833\n",
      "ROC-AUC: 0.5095380923815237\n"
     ]
    },
    {
     "name": "stderr",
     "output_type": "stream",
     "text": [
      "\n"
     ]
    }
   ],
   "source": [
    "evaluate(model, test_dataloader, device, topk=5)"
   ]
  },
  {
   "cell_type": "markdown",
   "id": "7b7b05e3",
   "metadata": {},
   "source": [
    "## 6. Training"
   ]
  },
  {
   "cell_type": "code",
   "execution_count": 8,
   "id": "101be533",
   "metadata": {
    "scrolled": true
   },
   "outputs": [
    {
     "name": "stderr",
     "output_type": "stream",
     "text": [
      "/home/vichshir/miniconda3/envs/bamba/lib/python3.10/site-packages/tqdm/auto.py:21: TqdmWarning: IProgress not found. Please update jupyter and ipywidgets. See https://ipywidgets.readthedocs.io/en/stable/user_install.html\n",
      "  from .autonotebook import tqdm as notebook_tqdm\n",
      "100%|██████████████████████████████████████| 3308/3308 [34:19<00:00,  1.61it/s, ae_loss=0.121, loss=41.7, sys_loss=41.6]\n",
      "100%|████████████████████████████████████████| 3308/3308 [35:09<00:00,  1.57it/s, ae_loss=0.107, loss=38.1, sys_loss=38]\n",
      "100%|██████████████████████████████████████| 3308/3308 [34:48<00:00,  1.58it/s, ae_loss=0.106, loss=35.8, sys_loss=35.7]\n"
     ]
    }
   ],
   "source": [
    "train_encoder = Encoder(df_train, df_products, df_users, description_vocab, review_vocab)\n",
    "training_data = DeepMINEDataset(df_train, df_products, df_users, n_neg_items=1)\n",
    "train_dataloader = DataLoader(training_data, batch_size=64, collate_fn=train_encoder.process, shuffle=True, num_workers=4)\n",
    "\n",
    "optim_params = [\n",
    "    # images\n",
    "    {\n",
    "        \"params\": [model.images_autoencoder.conv1.weight, model.images_autoencoder.conv2.weight, model.images_autoencoder.fc3.weight],\n",
    "        \"weight_decay\": model.lambda_w,\n",
    "    },\n",
    "    {\n",
    "        \"params\": [model.images_autoencoder.conv1.bias, model.images_autoencoder.conv2.bias, model.images_autoencoder.fc3.bias],\n",
    "        \"weight_decay\": model.lambda_b,\n",
    "    },\n",
    "    # descriptions\n",
    "    {\n",
    "        \"params\": [model.descriptions_autoencoder.fc1.weight, model.descriptions_autoencoder.fc2.weight],\n",
    "        \"weight_decay\": model.lambda_q,\n",
    "    },\n",
    "    {\n",
    "        \"params\": [model.descriptions_autoencoder.fc1.bias, model.descriptions_autoencoder.fc2.bias],\n",
    "        \"weight_decay\": model.lambda_c,\n",
    "    },\n",
    "    # reviews\n",
    "    {\n",
    "        \"params\": [model.reviews_autoencoder.fc1.weight, model.reviews_autoencoder.fc2.weight],\n",
    "        \"weight_decay\": model.lambda_n,\n",
    "    },\n",
    "    {\n",
    "        \"params\": [model.reviews_autoencoder.fc1.bias, model.reviews_autoencoder.fc2.bias],\n",
    "        \"weight_decay\": model.lambda_t,\n",
    "    },\n",
    "    # user perception factors\n",
    "    {\n",
    "        \"params\": [model.u_users.weight, model.theta_users.weight],\n",
    "        \"weight_decay\": model.lambda_theta,\n",
    "    },\n",
    "    # hidden information factor\n",
    "    {\n",
    "        \"params\": [model.v_items.weight],\n",
    "        \"weight_decay\": model.lambda_theta,\n",
    "    },\n",
    "    # biases\n",
    "    {\n",
    "        \"params\": [model.alpha_users.weight, model.beta_items.weight],\n",
    "        \"weight_decay\": model.lambda_beta,\n",
    "    },\n",
    "    # embedding layer of information integration\n",
    "    {\n",
    "        \"params\": [model.embeddings.weight],\n",
    "        \"weight_decay\": model.lambda_Wfu,\n",
    "    },\n",
    "    # cognition factors\n",
    "    {\n",
    "        \"params\": [model.a_1.weight, model.a_2.weight, model.a_3.weight],\n",
    "        \"weight_decay\": model.lambda_Wfu,\n",
    "    },\n",
    "]\n",
    "\n",
    "# optim_params = [\n",
    "#  {\n",
    "#      \"params\": [\n",
    "#          model.images_autoencoder.conv1.weight, model.images_autoencoder.conv2.weight, model.images_autoencoder.fc3.weight,\n",
    "#          model.images_autoencoder.conv1.bias, model.images_autoencoder.conv2.bias, model.images_autoencoder.fc3.bias,\n",
    "#          model.descriptions_autoencoder.fc1.weight, model.descriptions_autoencoder.fc2.weight,\n",
    "#          model.descriptions_autoencoder.fc1.bias, model.descriptions_autoencoder.fc2.bias,\n",
    "#          model.reviews_autoencoder.fc1.weight, model.reviews_autoencoder.fc2.weight,\n",
    "#          model.reviews_autoencoder.fc1.bias, model.reviews_autoencoder.fc2.bias\n",
    "#      ],\n",
    "#  }   \n",
    "# ]\n",
    "\n",
    "# optim_params = [\n",
    "#  {\n",
    "#      \"params\": [\n",
    "#          model.u_users.weight, model.theta_users.weight,\n",
    "#          model.v_items.weight,\n",
    "#          model.alpha_users.weight, model.beta_items.weight,\n",
    "#          model.embeddings.weight,\n",
    "#          model.a_1.weight, model.a_2.weight, model.a_3.weight\n",
    "#      ],\n",
    "#  }   \n",
    "# ]\n",
    "\n",
    "optimizer = torch.optim.SGD(model.parameters(), lr=3e-4, momentum=0.9)\n",
    "\n",
    "loss_history = []\n",
    "for epoch in range(3):\n",
    "    model.train()\n",
    "    running_loss = 0.0\n",
    "    running_sys_loss = 0.0\n",
    "    running_ae_loss = 0.0\n",
    "    for idx, data in enumerate(pbar := tqdm(train_dataloader)):\n",
    "        optimizer.zero_grad()\n",
    "        user_id = data['user_ids']\n",
    "        positive_item = data['pos_item']\n",
    "        negative_item = data['neg_item']\n",
    "\n",
    "        p_item, p_image, p_description, p_review = positive_item['ids'], positive_item['images'], positive_item['descriptions'], positive_item['reviews']\n",
    "        n_item, n_image, n_description, n_review = negative_item['ids'], negative_item['images'], negative_item['descriptions'], negative_item['reviews']\n",
    "\n",
    "        loss, outputs, (sys_loss, ae_loss) = model(\n",
    "            user_id.to(device),\n",
    "            p_item.to(device),\n",
    "            p_image.to(device),\n",
    "            p_description.to(device),\n",
    "            p_review.to(device),\n",
    "            n_item.to(device),\n",
    "            n_image.to(device),\n",
    "            n_description.to(device),\n",
    "            n_review.to(device)\n",
    "        )\n",
    "\n",
    "        loss.backward()\n",
    "\n",
    "        # step the optimizer\n",
    "        optimizer.step()\n",
    "\n",
    "        running_loss += loss.item()\n",
    "        running_sys_loss += sys_loss.item()\n",
    "        running_ae_loss += ae_loss.item()\n",
    "        pbar.set_postfix(loss=running_loss/(idx+1), sys_loss=running_sys_loss/(idx+1), ae_loss=running_ae_loss/(idx+1))\n",
    "        pbar.update()\n",
    "\n",
    "        loss_history.append(loss.item())"
   ]
  },
  {
   "cell_type": "markdown",
   "id": "e904c19d",
   "metadata": {},
   "source": [
    "## 7. Evaluation"
   ]
  },
  {
   "cell_type": "code",
   "execution_count": 10,
   "id": "1057732f",
   "metadata": {},
   "outputs": [
    {
     "data": {
      "image/png": "[encoded data removed]",
      "text/plain": [
       "<Figure size 640x480 with 1 Axes>"
      ]
     },
     "metadata": {},
     "output_type": "display_data"
    }
   ],
   "source": [
    "sns.lineplot(loss_history)\n",
    "plt.xlabel('step')\n",
    "plt.ylabel('loss')\n",
    "plt.show()"
   ]
  },
  {
   "cell_type": "code",
   "execution_count": 11,
   "id": "dde3e31b",
   "metadata": {},
   "outputs": [
    {
     "name": "stderr",
     "output_type": "stream",
     "text": [
      "  7%|███▍                                              | 5000/72969 [07:39<1:44:04, 10.89it/s, hit=0.488, roc_auc=0.843]"
     ]
    },
    {
     "name": "stdout",
     "output_type": "stream",
     "text": [
      "Hit-Ratio: 0.4879024195160968\n",
      "ROC-AUC: 0.8426114777044592\n"
     ]
    },
    {
     "name": "stderr",
     "output_type": "stream",
     "text": [
      "\n"
     ]
    }
   ],
   "source": [
    "evaluate(model, test_dataloader, device, topk=1)"
   ]
  },
  {
   "cell_type": "code",
   "execution_count": 12,
   "id": "80033449",
   "metadata": {},
   "outputs": [
    {
     "name": "stderr",
     "output_type": "stream",
     "text": [
      "  7%|███▍                                              | 5000/72969 [07:37<1:43:40, 10.93it/s, hit=0.883, roc_auc=0.844]"
     ]
    },
    {
     "name": "stdout",
     "output_type": "stream",
     "text": [
      "Hit-Ratio: 0.8828234353129374\n",
      "ROC-AUC: 0.8442511497700461\n"
     ]
    },
    {
     "name": "stderr",
     "output_type": "stream",
     "text": [
      "\n"
     ]
    }
   ],
   "source": [
    "evaluate(model, test_dataloader, device, topk=5)"
   ]
  },
  {
   "cell_type": "markdown",
   "id": "f9eb4bb4",
   "metadata": {},
   "source": [
    "TODO:\n",
    "- Progress bar: why there's more iterations after 100%?\n",
    "- Dataloader: __getitem__ problem?"
   ]
  },
  {
   "cell_type": "code",
   "execution_count": null,
   "id": "91794e0c",
   "metadata": {},
   "outputs": [],
   "source": []
  }
 ],
 "metadata": {
  "kernelspec": {
   "display_name": "Python 3 (ipykernel)",
   "language": "python",
   "name": "python3"
  },
  "language_info": {
   "codemirror_mode": {
    "name": "ipython",
    "version": 3
   },
   "file_extension": ".py",
   "mimetype": "text/x-python",
   "name": "python",
   "nbconvert_exporter": "python",
   "pygments_lexer": "ipython3",
   "version": "3.10.16"
  }
 },
 "nbformat": 4,
 "nbformat_minor": 5
}
